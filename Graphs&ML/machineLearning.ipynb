{
 "cells": [
  {
   "cell_type": "code",
   "execution_count": 1,
   "metadata": {},
   "outputs": [],
   "source": [
    "import torch\n",
    "import numpy as np\n",
    "import pandas as pd\n",
    "from tqdm import tqdm\n",
    "import json\n",
    "from torch.utils.data import TensorDataset, DataLoader\n",
    "import torch.optim as optim\n",
    "import math"
   ]
  },
  {
   "cell_type": "code",
   "execution_count": 2,
   "metadata": {},
   "outputs": [],
   "source": [
    "# getting the prepared graph from \"preparingGraphs\"\n",
    "df = pd.read_csv('linkedGraphsWithSolutions.csv', engine='python')"
   ]
  },
  {
   "cell_type": "code",
   "execution_count": 3,
   "metadata": {},
   "outputs": [],
   "source": [
    "size_of_matrixs = int(math.sqrt(len(json.loads(df.iloc[0][\"Matrix\"]))))\n",
    "amount_of_matrixs = len(df)"
   ]
  },
  {
   "cell_type": "code",
   "execution_count": 4,
   "metadata": {},
   "outputs": [],
   "source": [
    "# creating a nn model\n",
    "model = torch.nn.Sequential(\n",
    "    torch.nn.Linear(size_of_matrixs*size_of_matrixs, 150),\n",
    "    torch.nn.ReLU(),\n",
    "    torch.nn.Linear(150, 150),\n",
    "    torch.nn.ReLU(),\n",
    "    torch.nn.Linear(150, 1),\n",
    ")"
   ]
  },
  {
   "cell_type": "code",
   "execution_count": 5,
   "metadata": {},
   "outputs": [],
   "source": [
    "matrix_table = []\n",
    "amount_of_sol = []\n",
    "# puting the columns in an array\n",
    "for i in range(len(df)):\n",
    "    current = df.iloc[i]\n",
    "    matrix_table.append(json.loads(current[\"Matrix\"]))\n",
    "    amount_of_sol.append([current[\"Amount\"]])"
   ]
  },
  {
   "cell_type": "code",
   "execution_count": 6,
   "metadata": {},
   "outputs": [],
   "source": [
    "# spliting the data to train and test\n",
    "test_size = int(0.3 * amount_of_matrixs)\n",
    "x_test = torch.tensor(matrix_table[:test_size]).type(torch.FloatTensor)\n",
    "y_test = torch.tensor(amount_of_sol[:test_size]).type(torch.FloatTensor)\n",
    "x_train = torch.tensor(matrix_table[test_size:]).type(torch.FloatTensor)\n",
    "y_train = torch.tensor(amount_of_sol[test_size:]).type(torch.FloatTensor)"
   ]
  },
  {
   "cell_type": "code",
   "execution_count": 7,
   "metadata": {},
   "outputs": [],
   "source": [
    "# putting the data in data loaders\n",
    "my_train_dataset = TensorDataset(x_train, y_train)\n",
    "train_data = DataLoader(my_train_dataset, shuffle = True)\n",
    "my_test_dataset = TensorDataset(x_test, y_test)\n",
    "test_data = DataLoader(my_test_dataset, shuffle = True)"
   ]
  },
  {
   "cell_type": "code",
   "execution_count": 8,
   "metadata": {},
   "outputs": [],
   "source": [
    "optimizer = optim.Adam(model.parameters(), lr=0.01)\n",
    "criterion = torch.nn.MSELoss()\n",
    "'''\n",
    "trains the model\n",
    "'''\n",
    "def train():\n",
    "    model.train()\n",
    "    for idx, (data, labels) in tqdm(enumerate(train_data)):\n",
    "        optimizer.zero_grad()\n",
    "        out = model(data)\n",
    "        loss = criterion(out, labels)\n",
    "        loss.backward()\n",
    "        optimizer.step()"
   ]
  },
  {
   "cell_type": "code",
   "execution_count": 9,
   "metadata": {},
   "outputs": [],
   "source": [
    "'''\n",
    "tests the model\n",
    "'''\n",
    "def test():\n",
    "    model.eval()\n",
    "    valid_loss = 0\n",
    "    for idx, (data, labels) in tqdm(enumerate(test_data)):\n",
    "        out = model(data)\n",
    "        # sum up batch loss\n",
    "        valid_loss += criterion(out, labels).item()\n",
    "    print(\"Result: \", valid_loss / len(test_data))"
   ]
  },
  {
   "cell_type": "code",
   "execution_count": 10,
   "metadata": {},
   "outputs": [
    {
     "name": "stderr",
     "output_type": "stream",
     "text": [
      "14000it [00:35, 391.12it/s]\n",
      "6000it [00:01, 4250.87it/s]\n",
      "35it [00:00, 347.46it/s]"
     ]
    },
    {
     "name": "stdout",
     "output_type": "stream",
     "text": [
      "Result:  0.6717143412714387\n"
     ]
    },
    {
     "name": "stderr",
     "output_type": "stream",
     "text": [
      "14000it [00:36, 382.32it/s]\n",
      "6000it [00:01, 4375.04it/s]\n",
      "88it [00:00, 423.92it/s]"
     ]
    },
    {
     "name": "stdout",
     "output_type": "stream",
     "text": [
      "Result:  0.5356983100723952\n"
     ]
    },
    {
     "name": "stderr",
     "output_type": "stream",
     "text": [
      "14000it [00:33, 417.28it/s]\n",
      "6000it [00:01, 5087.17it/s]"
     ]
    },
    {
     "name": "stdout",
     "output_type": "stream",
     "text": [
      "Result:  0.5343206727575042\n"
     ]
    },
    {
     "name": "stderr",
     "output_type": "stream",
     "text": [
      "\n"
     ]
    }
   ],
   "source": [
    "epoch = 3\n",
    "for i in range(epoch):\n",
    "    train()\n",
    "    test()"
   ]
  }
 ],
 "metadata": {
  "kernelspec": {
   "display_name": "Python 3",
   "language": "python",
   "name": "python3"
  },
  "language_info": {
   "codemirror_mode": {
    "name": "ipython",
    "version": 3
   },
   "file_extension": ".py",
   "mimetype": "text/x-python",
   "name": "python",
   "nbconvert_exporter": "python",
   "pygments_lexer": "ipython3",
   "version": "3.8.3"
  }
 },
 "nbformat": 4,
 "nbformat_minor": 4
}
