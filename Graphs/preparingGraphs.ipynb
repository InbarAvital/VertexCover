{
 "cells": [
  {
   "cell_type": "code",
   "execution_count": 28,
   "metadata": {},
   "outputs": [],
   "source": [
    "import numpy as np\n",
    "import pandas as pd\n",
    "from itertools import chain, combinations\n",
    "import json\n",
    "from tqdm import tqdm\n",
    "import math"
   ]
  },
  {
   "cell_type": "code",
   "execution_count": 69,
   "metadata": {},
   "outputs": [],
   "source": [
    "# gets the graphs created inside \"creatingGraphs\"\n",
    "df = pd.read_csv('linkedGraphs.csv', engine='python', header=None) "
   ]
  },
  {
   "cell_type": "code",
   "execution_count": 70,
   "metadata": {},
   "outputs": [],
   "source": [
    "# deleting unrelevant stuff and renaming\n",
    "df = df.drop([0], axis = 0)\n",
    "df = df.rename(columns={0: \"Matrix\"})"
   ]
  },
  {
   "cell_type": "code",
   "execution_count": 71,
   "metadata": {},
   "outputs": [
    {
     "data": {
      "text/html": [
       "<div>\n",
       "<style scoped>\n",
       "    .dataframe tbody tr th:only-of-type {\n",
       "        vertical-align: middle;\n",
       "    }\n",
       "\n",
       "    .dataframe tbody tr th {\n",
       "        vertical-align: top;\n",
       "    }\n",
       "\n",
       "    .dataframe thead th {\n",
       "        text-align: right;\n",
       "    }\n",
       "</style>\n",
       "<table border=\"1\" class=\"dataframe\">\n",
       "  <thead>\n",
       "    <tr style=\"text-align: right;\">\n",
       "      <th></th>\n",
       "      <th>Matrix</th>\n",
       "    </tr>\n",
       "  </thead>\n",
       "  <tbody>\n",
       "    <tr>\n",
       "      <th>1</th>\n",
       "      <td>[[1, 0, 0, 1, 0, 0, 0, 0, 0, 0, 1, 0, 0, 1, 0]...</td>\n",
       "    </tr>\n",
       "    <tr>\n",
       "      <th>2</th>\n",
       "      <td>[[1, 0, 0, 0, 0, 0, 0, 1, 0, 0, 0, 0, 0, 1, 0]...</td>\n",
       "    </tr>\n",
       "    <tr>\n",
       "      <th>3</th>\n",
       "      <td>[[1, 0, 0, 1, 0, 0, 0, 1, 0, 1, 1, 1, 0, 0, 0]...</td>\n",
       "    </tr>\n",
       "    <tr>\n",
       "      <th>4</th>\n",
       "      <td>[[1, 0, 0, 0, 0, 1, 0, 0, 1, 1, 1, 1, 1, 0, 1]...</td>\n",
       "    </tr>\n",
       "    <tr>\n",
       "      <th>5</th>\n",
       "      <td>[[1, 1, 0, 1, 0, 0, 0, 0, 0, 0, 0, 0, 0, 0, 1]...</td>\n",
       "    </tr>\n",
       "    <tr>\n",
       "      <th>...</th>\n",
       "      <td>...</td>\n",
       "    </tr>\n",
       "    <tr>\n",
       "      <th>996</th>\n",
       "      <td>[[1, 0, 0, 0, 0, 0, 0, 1, 0, 0, 1, 0, 0, 0, 1]...</td>\n",
       "    </tr>\n",
       "    <tr>\n",
       "      <th>997</th>\n",
       "      <td>[[1, 0, 0, 1, 0, 0, 0, 0, 0, 0, 0, 1, 1, 1, 1]...</td>\n",
       "    </tr>\n",
       "    <tr>\n",
       "      <th>998</th>\n",
       "      <td>[[1, 0, 0, 0, 0, 0, 0, 0, 1, 1, 0, 1, 0, 0, 0]...</td>\n",
       "    </tr>\n",
       "    <tr>\n",
       "      <th>999</th>\n",
       "      <td>[[1, 1, 0, 0, 0, 0, 0, 0, 0, 1, 1, 0, 0, 0, 0]...</td>\n",
       "    </tr>\n",
       "    <tr>\n",
       "      <th>1000</th>\n",
       "      <td>[[1, 0, 1, 0, 0, 0, 0, 0, 0, 0, 0, 0, 1, 0, 0]...</td>\n",
       "    </tr>\n",
       "  </tbody>\n",
       "</table>\n",
       "<p>1000 rows × 1 columns</p>\n",
       "</div>"
      ],
      "text/plain": [
       "                                                 Matrix\n",
       "1     [[1, 0, 0, 1, 0, 0, 0, 0, 0, 0, 1, 0, 0, 1, 0]...\n",
       "2     [[1, 0, 0, 0, 0, 0, 0, 1, 0, 0, 0, 0, 0, 1, 0]...\n",
       "3     [[1, 0, 0, 1, 0, 0, 0, 1, 0, 1, 1, 1, 0, 0, 0]...\n",
       "4     [[1, 0, 0, 0, 0, 1, 0, 0, 1, 1, 1, 1, 1, 0, 1]...\n",
       "5     [[1, 1, 0, 1, 0, 0, 0, 0, 0, 0, 0, 0, 0, 0, 1]...\n",
       "...                                                 ...\n",
       "996   [[1, 0, 0, 0, 0, 0, 0, 1, 0, 0, 1, 0, 0, 0, 1]...\n",
       "997   [[1, 0, 0, 1, 0, 0, 0, 0, 0, 0, 0, 1, 1, 1, 1]...\n",
       "998   [[1, 0, 0, 0, 0, 0, 0, 0, 1, 1, 0, 1, 0, 0, 0]...\n",
       "999   [[1, 1, 0, 0, 0, 0, 0, 0, 0, 1, 1, 0, 0, 0, 0]...\n",
       "1000  [[1, 0, 1, 0, 0, 0, 0, 0, 0, 0, 0, 0, 1, 0, 0]...\n",
       "\n",
       "[1000 rows x 1 columns]"
      ]
     },
     "execution_count": 71,
     "metadata": {},
     "output_type": "execute_result"
    }
   ],
   "source": [
    "df"
   ]
  },
  {
   "cell_type": "code",
   "execution_count": 80,
   "metadata": {},
   "outputs": [],
   "source": [
    "size_of_matrixs = len(json.loads(df.iloc[0][\"Matrix\"]))\n",
    "amount_of_matrixs = len(df)"
   ]
  },
  {
   "cell_type": "code",
   "execution_count": 81,
   "metadata": {},
   "outputs": [],
   "source": [
    "pset_dict = dict()\n",
    "'''\n",
    "Returns the powerset of the list given\n",
    "Since this function can take time, we keep a cache, \"pset_dict\"\n",
    "that will keep the powersets we already calculated.\n",
    "I use the len of the graph as a key, because this powerset\n",
    "function is only used in sets that starts with 0 and increase their\n",
    "elements by 1.\n",
    "'''\n",
    "def powerset(s):\n",
    "    x = len(s)\n",
    "    if x in pset_dict:\n",
    "        return pset_dict[x]\n",
    "    pset = []\n",
    "    for i in range(1 << x):\n",
    "        pset.append([s[j] for j in range(x) if (i & (1 << j))])\n",
    "    pset_dict[x] = pset\n",
    "    return pset"
   ]
  },
  {
   "cell_type": "code",
   "execution_count": 87,
   "metadata": {},
   "outputs": [],
   "source": [
    "'''\n",
    "Gets the minimum vertex cover of a given graph.\n",
    "'''\n",
    "def get_min_vertex_cover(graph):\n",
    "    vert = [i for i in range(size_of_matrixs)]\n",
    "    subsets = list(powerset(vert))\n",
    "    subsets = sorted(subsets, key=len) \n",
    "    current_subset = []\n",
    "    for subset in subsets:\n",
    "        # choose the version needed\n",
    "        if is_vertex_cover2(graph, subset):\n",
    "            return subset  "
   ]
  },
  {
   "cell_type": "code",
   "execution_count": 88,
   "metadata": {},
   "outputs": [],
   "source": [
    "'''\n",
    "Checks if the subset given is a vertex cover for the graph given.\n",
    "'''\n",
    "def is_vertex_cover(graph, subset):\n",
    "    graph_visited = len(graph) * [False]\n",
    "    # for each vertex in subset, mark as true\n",
    "    for i in subset: \n",
    "        graph_visited[i] = True\n",
    "    # for each edge, checks that one of the vertex(at least) is True.\n",
    "    for u in range(int(len(graph) / size_of_matrixs)):\n",
    "        for v in range(u):\n",
    "            if graph[u*size_of_matrixs + v] == 1 and not graph_visited[u] and not graph_visited[v]:\n",
    "                return False\n",
    "    return True"
   ]
  },
  {
   "cell_type": "code",
   "execution_count": 89,
   "metadata": {},
   "outputs": [],
   "source": [
    "'''\n",
    "Checks if the subset given is a vertex cover for the graph given.\n",
    "\n",
    "This version is used when we use a new df that we pulled from \"creatingGraphs\"\n",
    "if we want to create new solutions to a df where the graphs are already represented\n",
    "as one array, we use the other version\n",
    "'''\n",
    "def is_vertex_cover2(graph, subset):\n",
    "    graph_visited = len(graph) * [False]\n",
    "    # for each vertex in subset, mark as true\n",
    "    for i in subset: \n",
    "        graph_visited[i] = True\n",
    "    # for each edge, checks that one of the vertex(at least) is True.\n",
    "    for u in range(len(graph)):\n",
    "        for v in range(u):\n",
    "            if graph[u][v] == 1 and not graph_visited[u] and not graph_visited[v]:\n",
    "                return False\n",
    "    return True"
   ]
  },
  {
   "cell_type": "code",
   "execution_count": 90,
   "metadata": {},
   "outputs": [
    {
     "name": "stderr",
     "output_type": "stream",
     "text": [
      " 10%|███████▉                                                                        | 99/1000 [00:04<00:44, 20.16it/s]\n"
     ]
    }
   ],
   "source": [
    "sols = []\n",
    "# solves the problem\n",
    "for ix in tqdm(df.index):\n",
    "    if ix == 100:\n",
    "        break;\n",
    "    current = df.iloc[ix-1]\n",
    "    sol = get_min_vertex_cover(json.loads(current['Matrix']))\n",
    "    sols.append(sol)"
   ]
  },
  {
   "cell_type": "code",
   "execution_count": 57,
   "metadata": {},
   "outputs": [],
   "source": [
    "# adds the solution to the df\n",
    "df['Solution'] = sols"
   ]
  },
  {
   "cell_type": "code",
   "execution_count": 92,
   "metadata": {},
   "outputs": [
    {
     "data": {
      "text/html": [
       "<div>\n",
       "<style scoped>\n",
       "    .dataframe tbody tr th:only-of-type {\n",
       "        vertical-align: middle;\n",
       "    }\n",
       "\n",
       "    .dataframe tbody tr th {\n",
       "        vertical-align: top;\n",
       "    }\n",
       "\n",
       "    .dataframe thead th {\n",
       "        text-align: right;\n",
       "    }\n",
       "</style>\n",
       "<table border=\"1\" class=\"dataframe\">\n",
       "  <thead>\n",
       "    <tr style=\"text-align: right;\">\n",
       "      <th></th>\n",
       "      <th>Matrix</th>\n",
       "    </tr>\n",
       "  </thead>\n",
       "  <tbody>\n",
       "    <tr>\n",
       "      <th>1</th>\n",
       "      <td>[[1, 0, 0, 1, 0, 0, 0, 0, 0, 0, 1, 0, 0, 1, 0]...</td>\n",
       "    </tr>\n",
       "    <tr>\n",
       "      <th>2</th>\n",
       "      <td>[[1, 0, 0, 0, 0, 0, 0, 1, 0, 0, 0, 0, 0, 1, 0]...</td>\n",
       "    </tr>\n",
       "    <tr>\n",
       "      <th>3</th>\n",
       "      <td>[[1, 0, 0, 1, 0, 0, 0, 1, 0, 1, 1, 1, 0, 0, 0]...</td>\n",
       "    </tr>\n",
       "    <tr>\n",
       "      <th>4</th>\n",
       "      <td>[[1, 0, 0, 0, 0, 1, 0, 0, 1, 1, 1, 1, 1, 0, 1]...</td>\n",
       "    </tr>\n",
       "    <tr>\n",
       "      <th>5</th>\n",
       "      <td>[[1, 1, 0, 1, 0, 0, 0, 0, 0, 0, 0, 0, 0, 0, 1]...</td>\n",
       "    </tr>\n",
       "    <tr>\n",
       "      <th>...</th>\n",
       "      <td>...</td>\n",
       "    </tr>\n",
       "    <tr>\n",
       "      <th>996</th>\n",
       "      <td>[[1, 0, 0, 0, 0, 0, 0, 1, 0, 0, 1, 0, 0, 0, 1]...</td>\n",
       "    </tr>\n",
       "    <tr>\n",
       "      <th>997</th>\n",
       "      <td>[[1, 0, 0, 1, 0, 0, 0, 0, 0, 0, 0, 1, 1, 1, 1]...</td>\n",
       "    </tr>\n",
       "    <tr>\n",
       "      <th>998</th>\n",
       "      <td>[[1, 0, 0, 0, 0, 0, 0, 0, 1, 1, 0, 1, 0, 0, 0]...</td>\n",
       "    </tr>\n",
       "    <tr>\n",
       "      <th>999</th>\n",
       "      <td>[[1, 1, 0, 0, 0, 0, 0, 0, 0, 1, 1, 0, 0, 0, 0]...</td>\n",
       "    </tr>\n",
       "    <tr>\n",
       "      <th>1000</th>\n",
       "      <td>[[1, 0, 1, 0, 0, 0, 0, 0, 0, 0, 0, 0, 1, 0, 0]...</td>\n",
       "    </tr>\n",
       "  </tbody>\n",
       "</table>\n",
       "<p>1000 rows × 1 columns</p>\n",
       "</div>"
      ],
      "text/plain": [
       "                                                 Matrix\n",
       "1     [[1, 0, 0, 1, 0, 0, 0, 0, 0, 0, 1, 0, 0, 1, 0]...\n",
       "2     [[1, 0, 0, 0, 0, 0, 0, 1, 0, 0, 0, 0, 0, 1, 0]...\n",
       "3     [[1, 0, 0, 1, 0, 0, 0, 1, 0, 1, 1, 1, 0, 0, 0]...\n",
       "4     [[1, 0, 0, 0, 0, 1, 0, 0, 1, 1, 1, 1, 1, 0, 1]...\n",
       "5     [[1, 1, 0, 1, 0, 0, 0, 0, 0, 0, 0, 0, 0, 0, 1]...\n",
       "...                                                 ...\n",
       "996   [[1, 0, 0, 0, 0, 0, 0, 1, 0, 0, 1, 0, 0, 0, 1]...\n",
       "997   [[1, 0, 0, 1, 0, 0, 0, 0, 0, 0, 0, 1, 1, 1, 1]...\n",
       "998   [[1, 0, 0, 0, 0, 0, 0, 0, 1, 1, 0, 1, 0, 0, 0]...\n",
       "999   [[1, 1, 0, 0, 0, 0, 0, 0, 0, 1, 1, 0, 0, 0, 0]...\n",
       "1000  [[1, 0, 1, 0, 0, 0, 0, 0, 0, 0, 0, 0, 1, 0, 0]...\n",
       "\n",
       "[1000 rows x 1 columns]"
      ]
     },
     "execution_count": 92,
     "metadata": {},
     "output_type": "execute_result"
    }
   ],
   "source": [
    "df"
   ]
  },
  {
   "cell_type": "code",
   "execution_count": null,
   "metadata": {},
   "outputs": [],
   "source": [
    "'''\n",
    "Gets an array with numbers(vertex) and returns a new array as\n",
    "hot one encoding in the size of the matrix.\n",
    "'''\n",
    "def hot_one_encoding(array):\n",
    "    new_array = [0 for i in range(size_of_matrixs)]\n",
    "    for i in array:\n",
    "        new_array[i] = 1\n",
    "    return new_array"
   ]
  },
  {
   "cell_type": "code",
   "execution_count": null,
   "metadata": {},
   "outputs": [],
   "source": [
    "new_sols = [0 for i in range(amount_of_matrixs)]\n",
    "# turns the solutions to hot one encoding \n",
    "for i in range(len(new_sols)):\n",
    "    new_sols[i] = hot_one_encoding(sols[i])\n",
    "new_sols"
   ]
  },
  {
   "cell_type": "code",
   "execution_count": null,
   "metadata": {},
   "outputs": [],
   "source": [
    "df['Solution'] = new_sols"
   ]
  },
  {
   "cell_type": "code",
   "execution_count": null,
   "metadata": {},
   "outputs": [],
   "source": [
    "df"
   ]
  },
  {
   "cell_type": "code",
   "execution_count": null,
   "metadata": {},
   "outputs": [],
   "source": [
    "new_matrix = [0 for i in range(amount_of_matrixs)]\n",
    "# transform the matrix to 1d list instead of 2d list\n",
    "for i in range(amount_of_matrixs):\n",
    "    current = df.iloc[i]\n",
    "    flat_list = [item for sublist in json.loads(current['Matrix']) for item in sublist]\n",
    "    new_matrix[i] = flat_list"
   ]
  },
  {
   "cell_type": "code",
   "execution_count": null,
   "metadata": {},
   "outputs": [],
   "source": [
    "df[\"Matrix\"] =  new_matrix"
   ]
  },
  {
   "cell_type": "code",
   "execution_count": null,
   "metadata": {},
   "outputs": [],
   "source": [
    "amount_of_sol = [0 for i in range(amount_of_matrixs)]\n",
    "# counts the amount of vertex in the solution found.\n",
    "for i in range(amount_of_matrixs):\n",
    "    current = df.iloc[i]\n",
    "    amount = sum(current['Solution'])\n",
    "    amount_of_sol[i] = amount"
   ]
  },
  {
   "cell_type": "code",
   "execution_count": null,
   "metadata": {},
   "outputs": [],
   "source": [
    "df[\"Amount\"] =  amount_of_sol"
   ]
  },
  {
   "cell_type": "code",
   "execution_count": null,
   "metadata": {},
   "outputs": [],
   "source": [
    "# save the new df in \"linkedGraphsWithSolutions\"\n",
    "df.to_csv('linkedGraphsWithSolutions.csv', index=False)"
   ]
  }
 ],
 "metadata": {
  "kernelspec": {
   "display_name": "Python 3",
   "language": "python",
   "name": "python3"
  },
  "language_info": {
   "codemirror_mode": {
    "name": "ipython",
    "version": 3
   },
   "file_extension": ".py",
   "mimetype": "text/x-python",
   "name": "python",
   "nbconvert_exporter": "python",
   "pygments_lexer": "ipython3",
   "version": "3.8.3"
  }
 },
 "nbformat": 4,
 "nbformat_minor": 4
}
